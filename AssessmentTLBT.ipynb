{
 "cells": [
  {
   "cell_type": "code",
   "execution_count": 1,
   "id": "4feb8340",
   "metadata": {},
   "outputs": [],
   "source": [
    "import numpy as np \n",
    "import matplotlib.pyplot as plt \n",
    "from statsmodels.stats.proportion import proportion_confint"
   ]
  },
  {
   "cell_type": "code",
   "execution_count": 2,
   "id": "a1ac4d06",
   "metadata": {},
   "outputs": [
    {
     "name": "stdout",
     "output_type": "stream",
     "text": [
      "0.5097476590672838 0.5126523409327162\n"
     ]
    }
   ],
   "source": [
    "#Control \n",
    "count = 455073 * 0.5112\n",
    "nobs = 455073\n",
    "\n",
    "# level of confidence 95\n",
    "ci_low_control, ci_upp_control = proportion_confint(count, nobs, alpha=0.05, method='normal')\n",
    "print(ci_low_control, ci_upp_control)"
   ]
  },
  {
   "cell_type": "code",
   "execution_count": 3,
   "id": "743dea25",
   "metadata": {},
   "outputs": [
    {
     "name": "stdout",
     "output_type": "stream",
     "text": [
      "0.5072412017612243 0.5101587982387757\n"
     ]
    }
   ],
   "source": [
    "#Variation1\n",
    "count = 451143 * 0.5087\n",
    "nobs = 451143\n",
    "\n",
    "# level of confidence 95\n",
    "ci_lowVar1, ci_uppVar1 = proportion_confint(count, nobs, alpha=0.05, method='normal')\n",
    "print(ci_lowVar1, ci_uppVar1)"
   ]
  },
  {
   "cell_type": "code",
   "execution_count": 4,
   "id": "d4ce7a5d",
   "metadata": {},
   "outputs": [
    {
     "name": "stdout",
     "output_type": "stream",
     "text": [
      "0.5108406474772307 0.5137593525227693\n"
     ]
    }
   ],
   "source": [
    "#Variation2\n",
    "count = 450664 * 0.5123\n",
    "nobs = 450664\n",
    "\n",
    "# level of confidence 95\n",
    "ci_lowVar2, ci_uppVar2 = proportion_confint(count, nobs, alpha=0.05, method='normal')\n",
    "print(ci_lowVar2, ci_uppVar2)"
   ]
  },
  {
   "cell_type": "code",
   "execution_count": 5,
   "id": "8e6369e7",
   "metadata": {},
   "outputs": [
    {
     "name": "stdout",
     "output_type": "stream",
     "text": [
      "0.5084396166815339 0.5113603833184661\n"
     ]
    }
   ],
   "source": [
    "#Variation3\n",
    "count = 450124 * 0.5099\n",
    "nobs = 450124\n",
    "\n",
    "# level of confidence 95\n",
    "ci_lowVar3, ci_uppVar3 = proportion_confint(count, nobs, alpha=0.05, method='normal')\n",
    "print(ci_lowVar3, ci_uppVar3)"
   ]
  },
  {
   "cell_type": "code",
   "execution_count": 6,
   "id": "666554c9",
   "metadata": {},
   "outputs": [
    {
     "name": "stdout",
     "output_type": "stream",
     "text": [
      "0.5050394310509209 0.507960568949079\n"
     ]
    }
   ],
   "source": [
    "#Variation4\n",
    "count = 450110 * 0.5065\n",
    "nobs = 450110\n",
    "\n",
    "# level of confidence 95\n",
    "ci_lowVar4, ci_uppVar4 = proportion_confint(count, nobs, alpha=0.05, method='normal')\n",
    "print(ci_lowVar4, ci_uppVar4)"
   ]
  },
  {
   "cell_type": "code",
   "execution_count": 7,
   "id": "2a87b793",
   "metadata": {},
   "outputs": [
    {
     "data": {
      "image/png": "[encoded data removed]",
      "text/plain": [
       "<Figure size 720x504 with 1 Axes>"
      ]
     },
     "metadata": {
      "needs_background": "light"
     },
     "output_type": "display_data"
    }
   ],
   "source": [
    "plt.figure(figsize=(10,7))\n",
    "\n",
    "plt.rcParams['axes.spines.right'] = False # despine the frame\n",
    "plt.rcParams['axes.spines.top'] = False # despine the frame\n",
    "\n",
    "plt.title(\"95% C.I of Transacted Sessions' proportions for each variation and the control group\", pad = 20)\n",
    "plt.yticks([]) #disable y ticks\n",
    "plt.yticks(np.arange(1, 3.5, step=0.5), ['Control', 'Variation1', 'Variation2', 'Variation3','Variation4'])  # Set text labels.\n",
    "plt.xticks(np.arange(0.504, 0.514, step=0.002),['' ,'50.6 %', '50.8 %', '50.10 %', '50.12 %','50.14 %']) # Set text labels.\n",
    "\n",
    "\n",
    "plt.plot([ci_low_control, ci_upp_control], [1,1], linewidth=2) # plotting the control confidence interval\n",
    "plt.plot(0.5112, 1, color='red', marker='*') # the control proportion of session transactions' \n",
    "plt.annotate('51.12 %', (0.5112, 1), xytext=(-10, 7), textcoords=\"offset pixels\") # annotation of the proportion on the figure\n",
    "\n",
    "plt.plot([ci_lowVar1, ci_uppVar1], [1.5,1.5], linewidth=2) # plotting the Variation1 confidence interval\n",
    "plt.plot(0.5087, 1.5, color='red', marker='*') # the Variation1 proportion of session transactions'\n",
    "plt.annotate('50.87 %', (0.5087, 1.5), xytext=(-10, 7), textcoords=\"offset pixels\") # annotation of the proportion on the figure\n",
    "\n",
    "plt.plot([ci_lowVar2, ci_uppVar2], [2,2], linewidth=2) # plotting the variation2 confidence interval\n",
    "plt.plot(0.5123, 2, color='red', marker='*', label= '51.23 %') # the Variation2 proportion of session transactions'\n",
    "plt.annotate('51.23 %', (0.5123, 2), xytext=(-10, 7), textcoords=\"offset pixels\") # annotation of the proportion on the figure\n",
    "\n",
    "plt.plot([ci_lowVar3, ci_uppVar3], [2.5,2.5], linewidth=2) # plotting the Variation3 confidence interval\n",
    "plt.plot(0.5099, 2.5, color='red', marker='*') # the Variation3 proportion of session transactions'\n",
    "plt.annotate('50.99 %', (0.5099, 2.5), xytext=(-10, 7), textcoords=\"offset pixels\") # annotation of the proportion on the figure\n",
    "\n",
    "plt.plot([ci_lowVar4, ci_uppVar4], [3,3], linewidth=2) # plotting the Variation4 confidence interval\n",
    "plt.plot(0.5065, 3, color='red', marker='*') # the Variation4 proportion of session transactions'\n",
    "plt.annotate('50.65 %', (0.5065, 3), xytext=(-10, 7), textcoords=\"offset pixels\"); # annotation of the proportion on the figure"
   ]
  },
  {
   "cell_type": "code",
   "execution_count": null,
   "id": "2f8b55b2",
   "metadata": {},
   "outputs": [],
   "source": []
  }
 ],
 "metadata": {
  "kernelspec": {
   "display_name": "Python 3 (ipykernel)",
   "language": "python",
   "name": "python3"
  },
  "language_info": {
   "codemirror_mode": {
    "name": "ipython",
    "version": 3
   },
   "file_extension": ".py",
   "mimetype": "text/x-python",
   "name": "python",
   "nbconvert_exporter": "python",
   "pygments_lexer": "ipython3",
   "version": "3.9.7"
  }
 },
 "nbformat": 4,
 "nbformat_minor": 5
}
